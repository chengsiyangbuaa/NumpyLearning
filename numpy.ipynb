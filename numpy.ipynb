{
 "cells": [
  {
   "cell_type": "code",
   "execution_count": 2,
   "metadata": {},
   "outputs": [],
   "source": [
    "import numpy as np\n",
    "#运行速度快，接口比较丰富"
   ]
  },
  {
   "cell_type": "code",
   "execution_count": 4,
   "metadata": {},
   "outputs": [
    {
     "name": "stdout",
     "output_type": "stream",
     "text": [
      "a=\n",
      " [0 1 2 3]\n",
      "b=\n",
      " [[0 1 2 3]\n",
      " [4 5 6 7]]\n",
      "<class 'numpy.ndarray'>\n"
     ]
    }
   ],
   "source": [
    "# numpy.array(object, dtype = None, copy = True, order = None, subok = False, ndmin = 0)\n",
    "# 只能存相同类型的元素,为了能够随机访问\n",
    "# numpy里面的多维数组，是ndarray类型的 可以通过np.array()进行ndarray对象的创建\n",
    "a = np.array((0,1,2,3),dtype=np.int64)\n",
    "b = np.array([[0,1,2,3],[4,5,6,7]])\n",
    "print(\"a=\\n\",a)\n",
    "print(\"b=\\n\",b)\n",
    "print(type(a))"
   ]
  },
  {
   "cell_type": "code",
   "execution_count": 14,
   "metadata": {},
   "outputs": [
    {
     "name": "stdout",
     "output_type": "stream",
     "text": [
      "a.shape: (5,) b.shape: (2, 4)\n",
      "a.type: <class 'numpy.ndarray'> b.type: <class 'numpy.ndarray'>\n",
      "a.dtype: float64 b.dtype: float64\n",
      "(32, 8)\n"
     ]
    }
   ],
   "source": [
    "#ndarray的三个属性\n",
    "\n",
    "a = np.array((0,1,2,3,4),dtype=np.float64)\n",
    "b = np.array([[0,1,2,3],[4,5,6,7]],dtype=np.float64)\n",
    "print(\"a.shape:\",a.shape,\"b.shape:\",b.shape)\n",
    "print(\"a.type:\",type(a),\"b.type:\",type(b))\n",
    "print(\"a.dtype:\",a.dtype,\"b.dtype:\",b.dtype)\n",
    "print(b.strides) # 步幅"
   ]
  },
  {
   "cell_type": "code",
   "execution_count": 18,
   "metadata": {},
   "outputs": [
    {
     "name": "stdout",
     "output_type": "stream",
     "text": [
      "[[0 1]\n",
      " [2 3]\n",
      " [4 5]\n",
      " [6 7]]\n",
      "[[0 1 2 3]\n",
      " [4 5 6 7]]\n",
      "[[   0    1]\n",
      " [   2    3]\n",
      " [   4    5]\n",
      " [9999 1888]]\n",
      "[[   0    1    2    3]\n",
      " [   4    5 9999 1888]]\n",
      "[[0.000e+00 1.000e+00]\n",
      " [2.000e+00 3.000e+00]\n",
      " [4.000e+00 5.000e+00]\n",
      " [9.999e+03 7.000e+00]]\n"
     ]
    }
   ],
   "source": [
    "b = np.array([[0,1,2,3],[4,5,6,7]],dtype=np.int64)\n",
    "a = b.reshape((4,2))# a,b在内存中共享一块内存\n",
    "print(a)\n",
    "print(b)\n",
    "b[1][2] = 9999\n",
    "c = a.astype(np.float64)# a,c在内存中独立\n",
    "a[3][1] = 1888\n",
    "print(a)\n",
    "print(b)\n",
    "print(c)"
   ]
  },
  {
   "cell_type": "code",
   "execution_count": 10,
   "metadata": {},
   "outputs": [
    {
     "name": "stdout",
     "output_type": "stream",
     "text": [
      "<memory at 0x0000026EF5D8ABA0>\n",
      "<memory at 0x0000026EF5D8ABA0>\n",
      "[[0 1]\n",
      " [2 3]\n",
      " [4 5]\n",
      " [6 7]]\n",
      "[[0 1 2 3]\n",
      " [4 5 6 7]]\n",
      "(4, 2)\n",
      "(8, 2)\n",
      "2\n",
      "2\n"
     ]
    }
   ],
   "source": [
    "import sys\n",
    "b = np.array([[0,1,2,3],[4,5,6,7]],dtype=np.int16) #换成不同类型\n",
    "a = b.reshape((4,-1))# a,b在内存中共享一块内存\n",
    "# print(2**15-1)\n",
    "print(b.data)\n",
    "print(a.data)\n",
    "print(a)\n",
    "print(b)\n",
    "print(a.strides) # 步幅\n",
    "print(b.strides)\n",
    "print(a.itemsize) #16bits 2bytes\n",
    "print(b.itemsize)\n"
   ]
  },
  {
   "cell_type": "code",
   "execution_count": 16,
   "metadata": {},
   "outputs": [
    {
     "name": "stdout",
     "output_type": "stream",
     "text": [
      "np.arange(0,1,0.1):\n",
      " <class 'numpy.ndarray'>\n"
     ]
    }
   ],
   "source": [
    "#快速生成等差数列\n",
    "print(\"np.arange(0,1,0.1):\\n\",type(np.arange(0,1,0.1)))#range(1,10,2)"
   ]
  },
  {
   "cell_type": "code",
   "execution_count": 3,
   "metadata": {},
   "outputs": [
    {
     "name": "stdout",
     "output_type": "stream",
     "text": [
      "np.linspace(0,1,10)\n",
      " [0.         0.11111111 0.22222222 0.33333333 0.44444444 0.55555556\n",
      " 0.66666667 0.77777778 0.88888889 1.        ]\n",
      "np.linspace(0,1,10,endpoint=False)\n",
      " [0.  0.1 0.2 0.3 0.4 0.5 0.6 0.7 0.8 0.9]\n"
     ]
    }
   ],
   "source": [
    "import numpy as np\n",
    "print(\"np.linspace(0,1,10)\\n\",np.linspace(0,1,10))\n",
    "print(\"np.linspace(0,1,10,endpoint=False)\\n\",np.linspace(0,1,10,endpoint=False))\n"
   ]
  },
  {
   "cell_type": "code",
   "execution_count": 8,
   "metadata": {},
   "outputs": [
    {
     "name": "stdout",
     "output_type": "stream",
     "text": [
      "[ 1.          2.51188643  6.30957344 15.84893192 39.81071706]\n",
      "[  1.           3.16227766  10.          31.6227766  100.        ]\n",
      "[ 1.  2.  4.  8. 16.]\n",
      "[1.         1.74110113 3.03143313 5.27803164 9.18958684]\n"
     ]
    }
   ],
   "source": [
    "#等比数列\n",
    "import numpy as np\n",
    "print(np.logspace(0,2,5,endpoint=False)) # 10^0   ~    10^2    contain no 10^2\n",
    "print(np.logspace(0,2,5))\n",
    "print(np.logspace(0,4,5,base=2))\n",
    "print(np.logspace(0,4,5,base=2,endpoint=False))"
   ]
  },
  {
   "cell_type": "code",
   "execution_count": 21,
   "metadata": {},
   "outputs": [
    {
     "name": "stdout",
     "output_type": "stream",
     "text": [
      "[[0 0 0]\n",
      " [0 0 0]]\n",
      "[[[1.32185649e-311 6.76869935e-322 0.00000000e+000 0.00000000e+000]\n",
      "  [0.00000000e+000 5.30276956e+180 6.00736842e-067 3.67220939e+097]\n",
      "  [6.38998253e-067 3.92814227e+126 4.25223142e+180 7.48543529e+247]]\n",
      "\n",
      " [[2.32363010e+251 6.11130817e+223 2.59903818e-144 8.69924595e-043]\n",
      "  [2.14339047e+184 5.20749686e-090 1.22609690e-046 2.59027907e-144]\n",
      "  [1.16442250e-028 9.44872517e-143 6.17582057e-322 2.08600674e-308]]]\n",
      "[[1 1]\n",
      " [1 1]]\n",
      "[[777 777 777]\n",
      " [777 777 777]]\n",
      "[[0 0 0 0 0 0 0 0 0 0]\n",
      " [0 0 0 0 0 0 0 0 0 0]\n",
      " [0 0 0 0 0 0 0 0 0 0]\n",
      " [0 0 0 0 0 0 0 0 0 0]\n",
      " [0 0 0 0 0 0 0 0 0 0]\n",
      " [0 0 0 0 0 0 0 0 0 0]\n",
      " [0 0 0 0 0 0 0 0 0 0]\n",
      " [0 0 0 0 0 0 0 0 0 0]\n",
      " [0 0 0 0 0 0 0 0 0 0]\n",
      " [0 0 0 0 0 0 0 0 0 0]]\n"
     ]
    }
   ],
   "source": [
    "#zeros\n",
    "print(np.zeros((2,3),dtype=np.int32))\n",
    "print(np.empty((2,3,4),np.float64)) # 不对数组进行初始化\n",
    "print(np.ones((2,2),np.int32))\n",
    "print(np.full((2,3),777))\n",
    "print(np.full((10,10),0))\n"
   ]
  },
  {
   "cell_type": "code",
   "execution_count": 22,
   "metadata": {},
   "outputs": [
    {
     "name": "stdout",
     "output_type": "stream",
     "text": [
      "[6 0 1 2 3 4 5 6 0 1 2 3 4 5 6 0 1 2 3 4 5 6 0 1 2 3 4 5 6 0 1]\n",
      "<class 'numpy.ndarray'>\n"
     ]
    }
   ],
   "source": [
    "# function init\n",
    "\n",
    "def weekday(i):\n",
    "    return (i+6) % 7\n",
    "na = np.fromfunction(weekday,(31,)).astype(np.int32)\n",
    "print(na)\n",
    "print(type(na))"
   ]
  },
  {
   "cell_type": "code",
   "execution_count": 21,
   "metadata": {},
   "outputs": [
    {
     "name": "stdout",
     "output_type": "stream",
     "text": [
      "[[ 1  2  3  4  5  6  7  8  9]\n",
      " [ 2  4  6  8 10 12 14 16 18]\n",
      " [ 3  6  9 12 15 18 21 24 27]\n",
      " [ 4  8 12 16 20 24 28 32 36]\n",
      " [ 5 10 15 20 25 30 35 40 45]\n",
      " [ 6 12 18 24 30 36 42 48 54]\n",
      " [ 7 14 21 28 35 42 49 56 63]\n",
      " [ 8 16 24 32 40 48 56 64 72]\n",
      " [ 9 18 27 36 45 54 63 72 81]]\n"
     ]
    }
   ],
   "source": [
    "def multy(i,j):\n",
    "    return (i+1)*(j+1)\n",
    "\n",
    "print(np.fromfunction(multy,(9,9)).astype(np.int32))"
   ]
  },
  {
   "cell_type": "code",
   "execution_count": 28,
   "metadata": {},
   "outputs": [
    {
     "name": "stdout",
     "output_type": "stream",
     "text": [
      "[0 1 2 3 4 5 6 7 8 9]\n",
      "[1 2]\n",
      "2\n",
      "[0 1 2 3 4 5 6 7 8 9]\n",
      "5\n",
      "[0 1 2 3 4]\n",
      "[77 88 99  3  4  5  6  7  8  9]\n"
     ]
    }
   ],
   "source": [
    "#一维元素的存取\n",
    "\n",
    "import numpy as np\n",
    "\n",
    "a = np.arange(10)\n",
    "print(a)\n",
    "print(a[1:3])\n",
    "print(a[2])\n",
    "print(a[:])\n",
    "print(a[-5])\n",
    "print(a[:-5])\n",
    "a[:3] = 77,88,99\n",
    "print(a)\n",
    "#numpy数组使用切片，所得新数组与原数组共享内存，是原数组的视图\n",
    "#list数组使用切片，所得的新数组是原数组的复制\n",
    "#numpy 如果只用数字或者切片访问ndarray，它的返回值也是ndarray，data的内存空间共享"
   ]
  },
  {
   "cell_type": "code",
   "execution_count": 30,
   "metadata": {},
   "outputs": [
    {
     "name": "stdout",
     "output_type": "stream",
     "text": [
      "<memory at 0x0000026EF5EF7280>\n",
      "<memory at 0x0000026EF5EE9720>\n"
     ]
    }
   ],
   "source": [
    "import numpy as np\n",
    "na = np.arange(10).astype(np.int16)\n",
    "nb = na[1:3]\n",
    "print(na.data)\n",
    "print(nb.data)\n",
    "a = list(range(10))\n",
    "b = a[1:3]\n",
    "print(\"na:\\n\",na)\n",
    "print(\"nb:\\n\",nb)\n",
    "print(\"a:\\n\",a)\n",
    "print(\"b:\\n\",b)\n",
    "na[2] = 100\n",
    "a[2] = 100\n",
    "print(\"*************\")\n",
    "print(\"na:\\n\",na)\n",
    "print(\"nb:\\n\",nb)\n",
    "print(\"a:\\n\",a)\n",
    "print(\"b:\\n\",b)"
   ]
  },
  {
   "cell_type": "code",
   "execution_count": 29,
   "metadata": {},
   "outputs": [
    {
     "name": "stdout",
     "output_type": "stream",
     "text": [
      "[0.1 0.3 0.3 0.7]\n",
      "[0.000e+00 1.000e-01 2.000e-01 7.777e+03 4.000e-01 5.000e-01 6.000e-01\n",
      " 7.000e-01 8.000e-01 9.000e-01]\n",
      "[0.1 0.3 0.3 0.7]\n",
      "[0.000e+00 1.000e-01 2.000e-01 7.777e+03 4.000e-01 5.000e-01 6.000e-01\n",
      " 7.000e-01 8.000e-01 9.000e-01]\n",
      "[1.000e-01 9.900e+01 4.396e+03 7.777e+03]\n"
     ]
    }
   ],
   "source": [
    "#使用整数列表获取数组\n",
    "na = np.arange(0,1,0.1)\n",
    "nb = na[[1,3,3,7]]\n",
    "print(nb)\n",
    "na[3] = 7777\n",
    "print(na)\n",
    "print(nb)\n",
    "\n",
    "nb[1] = 99\n",
    "nb[[2,3]] = 4396,7777\n",
    "print(na)\n",
    "print(nb)"
   ]
  },
  {
   "cell_type": "code",
   "execution_count": 38,
   "metadata": {},
   "outputs": [
    {
     "name": "stdout",
     "output_type": "stream",
     "text": [
      "[0 1 2 3 4 5 6 7 8 9]\n",
      "[[2 4 4 5]\n",
      " [7 7 3 9]]\n"
     ]
    }
   ],
   "source": [
    "#使用整数数组作为下标\n",
    "na = np.arange(10)\n",
    "idx = np.array([[2,4,-6,5],[7,7,3,9]])\n",
    "nb = na[idx] #一种新的获得数组的方法\n",
    "print(na)\n",
    "print(nb)"
   ]
  },
  {
   "cell_type": "code",
   "execution_count": 3,
   "metadata": {},
   "outputs": [
    {
     "name": "stdout",
     "output_type": "stream",
     "text": [
      "na[idx1]:\n",
      " [0 2 4 6 8]\n",
      "<class 'numpy.ndarray'>\n",
      "[ True False  True False  True False  True False  True False]\n",
      "[0 2 4 6 8]\n"
     ]
    }
   ],
   "source": [
    "#使用布尔列表作为下标\n",
    "na = np.arange(10)\n",
    "idx1 = [True,False,True,False,True,False,True,False,True,False]\n",
    "print(\"na[idx1]:\\n\",na[idx1])\n",
    "idx2 = (na%2==0)\n",
    "print(type(idx2))\n",
    "print(idx2)\n",
    "print(na[idx2])"
   ]
  },
  {
   "cell_type": "code",
   "execution_count": 32,
   "metadata": {},
   "outputs": [
    {
     "name": "stdout",
     "output_type": "stream",
     "text": [
      "[[0, 1, 2, 3, 4, 5], [1, 2, 3, 4, 5, 6], [2, 3, 4, 5, 6, 7], [3, 4, 5, 6, 7, 8], [4, 5, 6, 7, 8, 9]]\n",
      "<class 'numpy.ndarray'>\n",
      "int16\n",
      "[[0 1 2 3 4 5]\n",
      " [1 2 3 4 5 6]\n",
      " [2 3 4 5 6 7]\n",
      " [3 4 5 6 7 8]\n",
      " [4 5 6 7 8 9]]\n",
      "[1 2 3 4 5 6]\n",
      "[2 3 4]\n",
      "[2 3 4 5 6]\n",
      "[[3 4]\n",
      " [4 5]]\n"
     ]
    }
   ],
   "source": [
    "l = [[x+y for x in range(6)]for y in range(5)]\n",
    "print(l)\n",
    "na = np.array(l).astype(np.int16)\n",
    "print(type(na))\n",
    "print(na.dtype)\n",
    "print(na)\n",
    "print(na[1])\n",
    "print(na[0:3,2])\n",
    "print(na[:,2])\n",
    "print(na[1:3,2:4])"
   ]
  },
  {
   "cell_type": "code",
   "execution_count": 35,
   "metadata": {},
   "outputs": [
    {
     "name": "stdout",
     "output_type": "stream",
     "text": [
      "[[0, 1, 2, 3, 4, 5], [1, 2, 3, 4, 5, 6], [2, 3, 4, 5, 6, 7], [3, 4, 5, 6, 7, 8], [4, 5, 6, 7, 8, 9]]\n",
      "[[0 1 2 3 4 5]\n",
      " [1 2 3 4 5 6]\n",
      " [2 3 4 5 6 7]\n",
      " [3 4 5 6 7 8]\n",
      " [4 5 6 7 8 9]]\n",
      "[3 4]\n",
      "na:\n",
      " [[   0    1    2    3    4    5]\n",
      " [   1    2    3 8888    5    6]\n",
      " [   2    3    4    5    6    7]\n",
      " [   3    4    5    6    7    8]\n",
      " [   4    5    6    7    8    9]]\n",
      "nb:\n",
      " [   3 8888]\n"
     ]
    }
   ],
   "source": [
    "l = [[x+y for x in range(6)]for y in range(5)]\n",
    "print(l)\n",
    "na = np.array(l).astype(np.int16)\n",
    "print(na)\n",
    "nb = na[0:2,3]\n",
    "print(nb)\n",
    "nb[1] = 8888\n",
    "print(\"na:\\n\",na)\n",
    "print(\"nb:\\n\",nb)"
   ]
  },
  {
   "cell_type": "code",
   "execution_count": 27,
   "metadata": {},
   "outputs": [
    {
     "name": "stdout",
     "output_type": "stream",
     "text": [
      "5.0 <class 'numpy.float32'>\n",
      "5.0 <class 'float'>\n"
     ]
    }
   ],
   "source": [
    "a = np.arange(6,dtype=np.float32).reshape(2,3)\n",
    "print(a[1,2],type(a[1,2])) # 返回的是np数据类型\n",
    "print(a.item(1,2),type(a.item(1,2))) # 返回的是python 的数据类型"
   ]
  },
  {
   "cell_type": "code",
   "execution_count": 31,
   "metadata": {},
   "outputs": [
    {
     "name": "stdout",
     "output_type": "stream",
     "text": [
      "[[0, 1, 2, 3, 4, 5], [1, 2, 3, 4, 5, 6], [2, 3, 4, 5, 6, 7], [3, 4, 5, 6, 7, 8], [4, 5, 6, 7, 8, 9]]\n",
      "[[0 1 2 3 4 5]\n",
      " [1 2 3 4 5 6]\n",
      " [2 3 4 5 6 7]\n",
      " [3 4 5 6 7 8]\n",
      " [4 5 6 7 8 9]]\n",
      "[[0 2 4]\n",
      " [3 5 7]]\n",
      "[[0 2 4]\n",
      " [3 5 7]]\n"
     ]
    }
   ],
   "source": [
    "l = [[x+y for x in range(6)]for y in range(5)]\n",
    "print(l)\n",
    "na = np.array(l).astype(np.int16)\n",
    "print(na)\n",
    "idx = slice(0,None,3),slice(None,None,2)#[0::3][::2]\n",
    "print(na[idx])\n",
    "print(na[0::3,::2])"
   ]
  },
  {
   "cell_type": "code",
   "execution_count": 33,
   "metadata": {},
   "outputs": [
    {
     "name": "stdout",
     "output_type": "stream",
     "text": [
      "(slice(None, None, 3), slice(2, None, 2))\n",
      "<class 'tuple'>\n"
     ]
    }
   ],
   "source": [
    "idx = np.s_[::3,2::2]\n",
    "print(idx)\n",
    "print(type(idx))"
   ]
  },
  {
   "cell_type": "code",
   "execution_count": 4,
   "metadata": {},
   "outputs": [
    {
     "name": "stdout",
     "output_type": "stream",
     "text": [
      "[[0 1 2 3 4 5]\n",
      " [1 2 3 4 5 6]\n",
      " [2 3 4 5 6 7]\n",
      " [3 4 5 6 7 8]\n",
      " [4 5 6 7 8 9]]\n",
      "<class 'numpy.ndarray'>\n",
      "[1 3 3 7]\n",
      "[[3 5 7]\n",
      " [4 6 8]]\n",
      "[2 5]\n"
     ]
    }
   ],
   "source": [
    "#访问多维数组的时候，如果访问的下标仅仅包含数字和切片，那么返回值仅仅是原数组的视图\n",
    "#下标里面有元组，bool数组，整数列表，返回值和原数组是独立的，不会共享空间\n",
    "l = [[x+y for x in range(6)]for y in range(5)]\n",
    "na = np.array(l).astype(np.int16)\n",
    "print(na)\n",
    "print(type(na[(0,1,1,3),(1,2,2,4)]))\n",
    "print(na[(0,1,1,3),(1,2,2,4)])\n",
    "print(na[3:,[0,2,4]])\n",
    "select = np.array([0,1,0,0,1],dtype=np.bool8)\n",
    "print(na[select,1])"
   ]
  },
  {
   "cell_type": "code",
   "execution_count": 36,
   "metadata": {},
   "outputs": [
    {
     "name": "stdout",
     "output_type": "stream",
     "text": [
      "[[1 2 3]\n",
      " [4 5 6]\n",
      " [7 8 9]]\n",
      "int32\n",
      "2\n",
      "(3, 3)\n",
      "<memory at 0x0000026EF533EAD0>\n",
      "4\n",
      "36\n",
      "(12, 4)\n"
     ]
    }
   ],
   "source": [
    "# 内存结构\n",
    "# 数组在内存空间里面连续存储\n",
    "\n",
    "a = np.array([[x + y for x in range(3)]for y in range(1,9,3)])\n",
    "print(a)\n",
    "print(a.dtype)\n",
    "print(a.ndim)\n",
    "print(a.shape)\n",
    "print(a.data)\n",
    "print(a.itemsize)\n",
    "print(a.nbytes)#9*4\n",
    "print(a.strides)"
   ]
  },
  {
   "cell_type": "code",
   "execution_count": 11,
   "metadata": {},
   "outputs": [
    {
     "name": "stdout",
     "output_type": "stream",
     "text": [
      "[[1 2 3]\n",
      " [4 5 6]\n",
      " [7 8 9]]\n",
      "(12, 4)\n",
      "(24, 8)\n",
      "<memory at 0x000001D7D6AF6450>\n",
      "<memory at 0x000001D7D6AF6450>\n"
     ]
    }
   ],
   "source": [
    "\n",
    "a = np.array([[x + y for x in range(3)]for y in range(1,9,3)])\n",
    "print(a)\n",
    "b = a[::2,::2]\n",
    "print(a.strides)\n",
    "print(b.strides)\n",
    "print(a.data)\n",
    "print(b.data)"
   ]
  },
  {
   "cell_type": "code",
   "execution_count": 13,
   "metadata": {},
   "outputs": [
    {
     "name": "stdout",
     "output_type": "stream",
     "text": [
      "(1000,)\n",
      "(1000,)\n",
      "[ 0.          3.14473739  6.28947478  9.43421217 12.57894956 15.72368695\n",
      " 18.86842435 22.01316174 25.15789913 28.30263652]\n",
      "[ 0.         -0.00314473  0.00628943 -0.00943407  0.01257862 -0.01572304\n",
      "  0.0188673  -0.02201138  0.02515525 -0.02829886]\n"
     ]
    },
    {
     "data": {
      "image/png": "[encoded data removed]",
      "text/plain": [
       "<Figure size 432x288 with 1 Axes>"
      ]
     },
     "metadata": {
      "needs_background": "light"
     },
     "output_type": "display_data"
    }
   ],
   "source": [
    "#ufunc\n",
    "#对一个数组里面的所有元素进行运算\n",
    "import numpy as np\n",
    "from matplotlib import pyplot as plt\n",
    "x = np.linspace(0,10*np.pi,1000)\n",
    "y = np.sin(x)\n",
    "print(x.shape)\n",
    "print(y.shape)\n",
    "print(x[0::100])\n",
    "print(y[0::100])\n",
    "plt.plot(x,y)\n",
    "plt.show()"
   ]
  },
  {
   "cell_type": "code",
   "execution_count": 38,
   "metadata": {},
   "outputs": [
    {
     "name": "stdout",
     "output_type": "stream",
     "text": [
      "2675565470704\n",
      "2675565470704\n"
     ]
    }
   ],
   "source": [
    "x = np.linspace(0,10*np.pi,1000,dtype=np.float32)\n",
    "y = np.zeros(1000,dtype=np.float32)\n",
    "t = np.sin(x,out=y)\n",
    "print(id(t))\n",
    "print(id(y))"
   ]
  },
  {
   "cell_type": "code",
   "execution_count": 19,
   "metadata": {},
   "outputs": [
    {
     "name": "stdout",
     "output_type": "stream",
     "text": [
      "[ 3.  7. 11.]\n",
      "[ 3.  7. 11.]\n",
      "[ 3.  7. 11.]\n",
      "float64\n",
      "float64\n",
      "float64\n"
     ]
    }
   ],
   "source": [
    "#四则运算\n",
    "import numpy as np\n",
    "a = np.array([1,3,5],dtype=np.int32)\n",
    "b = np.array([2,4,6],dtype=np.float64)\n",
    "c1 = np.add(a,b)\n",
    "c2 = a + b\n",
    "c3 = np.zeros(3)\n",
    "np.add(a,b,c3)\n",
    "print(c1)\n",
    "print(c2)\n",
    "print(c3)\n",
    "print(c1.dtype)\n",
    "print(c2.dtype)\n",
    "print(c3.dtype)"
   ]
  },
  {
   "cell_type": "code",
   "execution_count": 39,
   "metadata": {},
   "outputs": [
    {
     "name": "stdout",
     "output_type": "stream",
     "text": [
      "[False False  True]\n",
      "False\n",
      "True\n"
     ]
    }
   ],
   "source": [
    "#比较运算\n",
    "a = np.array([1,2,3])\n",
    "b = np.array([3,2,1])\n",
    "print(a > b)\n",
    "print(np.all(a > b))\n",
    "print(np.any(a > b))"
   ]
  },
  {
   "cell_type": "code",
   "execution_count": 22,
   "metadata": {},
   "outputs": [],
   "source": [
    "#ufunc 可以自定义，这个不讲"
   ]
  },
  {
   "cell_type": "code",
   "execution_count": 40,
   "metadata": {},
   "outputs": [
    {
     "name": "stdout",
     "output_type": "stream",
     "text": [
      "(8, 4, 2)\n",
      "3\n",
      "(3, 2, 2)\n",
      "2\n",
      "(1, 2)\n",
      "[[[ 1  2]\n",
      "  [ 3  4]]\n",
      "\n",
      " [[ 5  6]\n",
      "  [ 7  8]]\n",
      "\n",
      " [[ 9 10]\n",
      "  [11 12]]]\n",
      "[[1 2]]\n",
      "[[[ 2  4]\n",
      "  [ 4  6]]\n",
      "\n",
      " [[ 6  8]\n",
      "  [ 8 10]]\n",
      "\n",
      " [[10 12]\n",
      "  [12 14]]]\n"
     ]
    }
   ],
   "source": [
    "# 广播\n",
    "# 以上所有的数组的运算，前提条件都是两个数组的shape是完全一致的\n",
    "# shape不一样，则会有广播运算\n",
    "# 广播规则\n",
    "\n",
    "# 1.让所有输入数组都向其中形状最长的数组看齐，形状中不足的部分都通过在前面加 1 补齐。\n",
    "#\n",
    "# 这条规则，是对维度进行补齐\n",
    "# shape 为(3,2)  (3,3,2) 的两个ndarray相加\n",
    "# 显然两个ndarray的维度不一样，前者是2，后者是3，这个时候要将二者维度右对齐，并且补1\n",
    "# (1,3,2)\n",
    "# (3,3,2)\n",
    "\n",
    "# 2.输出数组的形状是输入数组形状的各个维度上的最大值。\n",
    "# 两个数组进行+运算\n",
    "# (3,1,4) + (2,1)\n",
    "# 首先要进行第一步，维度补齐。(2,1)->(1,2,1)\n",
    "# 然后计算出 输出数组 的shape：(3,1,4) (1,2,1)各个维度取max->(3,2,4)\n",
    "\n",
    "# 3.如果输入数组的某个维度和输出数组的对应维度的长度相同或者其长度为 1 时，这个数组能够用来计算，否则出错。\n",
    "# 检查运算是否成立，是否可以进行\n",
    "# (3,2,4) + (3,1) ->(3,2,4) + (1,3,1)\n",
    "# output shape : (3,3,4)\n",
    "# (3,2,4)vs(3,3,4) 3=3√  2!=3&2!=1× 4=4√ 其中有一个轴的长度与输出结果不同，并且也不为1，所以这个运算那会报错\n",
    "\n",
    "# 4.当输入数组的某个维度的长度为 1 时，沿着此维度运算时都用此维度上的第一组值。\n",
    "# (3,2,2) + (1,2)\n",
    "# [\n",
    "#   [\n",
    "#       [1,2],\n",
    "#       [3,4]   ],\n",
    "#   [\n",
    "#       [5,6],\n",
    "#       [7,8]   ],\n",
    "#   [   \n",
    "#       [9,10],\n",
    "#       [11,12] ]\n",
    "# ]\n",
    "# +\n",
    "# [[1,2]]\n",
    "\n",
    "na = np.array([[[1,2],[3,4]],[[5,6],[7,8]],[[9,10],[11,12]]],dtype=np.int16)\n",
    "nb = np.array([[1,2]])\n",
    "print(na.strides)\n",
    "print(na.ndim)\n",
    "print(na.shape)\n",
    "print(nb.ndim)\n",
    "print(nb.shape)\n",
    "print(na)\n",
    "print(nb)\n",
    "print(na + nb)"
   ]
  },
  {
   "cell_type": "code",
   "execution_count": 30,
   "metadata": {},
   "outputs": [
    {
     "name": "stdout",
     "output_type": "stream",
     "text": [
      "[[0.68171198 0.17653446]\n",
      " [0.7395975  0.02285172]\n",
      " [0.13773583 0.89269019]]\n",
      "[[-0.79665216  1.06217745]\n",
      " [ 0.82570825  1.56249333]\n",
      " [ 0.82492511 -0.80023085]]\n",
      "[[8 3]\n",
      " [8 7]\n",
      " [2 8]]\n"
     ]
    }
   ],
   "source": [
    "#函数库\n",
    "from numpy import random as nr\n",
    "r1 = nr.rand(3,2) #0-1均匀分布的值\n",
    "r2 = nr.randn(3,2) #标准正态分布\n",
    "r3 = nr.randint(0,10,(3,2)) #0-9 \n",
    "print(r1)\n",
    "print(r2)\n",
    "print(r3)"
   ]
  },
  {
   "cell_type": "code",
   "execution_count": 32,
   "metadata": {},
   "outputs": [
    {
     "data": {
      "image/png": "[encoded data removed]",
      "text/plain": [
       "<Figure size 432x288 with 1 Axes>"
      ]
     },
     "metadata": {
      "needs_background": "light"
     },
     "output_type": "display_data"
    }
   ],
   "source": [
    "from numpy import random as nr\n",
    "import numpy as np\n",
    "from matplotlib import pyplot as plt\n",
    "\n",
    "heights = nr.normal(170,30,(100000,)).astype(np.int32) #正态分布，均值，方差\n",
    "stats = np.zeros((10000,))\n",
    "for i in range(100000):\n",
    "    stats[heights[i]] += 1\n",
    "\n",
    "plt.plot(stats[:300])\n",
    "plt.show()"
   ]
  },
  {
   "cell_type": "code",
   "execution_count": 36,
   "metadata": {},
   "outputs": [
    {
     "name": "stdout",
     "output_type": "stream",
     "text": [
      "[[6 2 9 5 4]\n",
      " [6 9 9 7 9]\n",
      " [6 6 1 0 6]]\n",
      "85\n",
      "[18 17 19 12 19]\n",
      "[26 40 19]\n",
      "5.666666666666667\n",
      "[6.         5.66666667 6.33333333 4.         6.33333333]\n"
     ]
    }
   ],
   "source": [
    "#求均值，方差，求和\n",
    "\n",
    "import numpy as np\n",
    "from numpy import random as nr \n",
    "\n",
    "nr.seed(2018)#随机数种子,伪随机数，从一个种子出发，迭代运算计算出来的随机数，种子确定，随机数是确定的\n",
    "a = nr.randint(0,10,size=(3,5))\n",
    "print(a)\n",
    "print(np.sum(a))\n",
    "print(np.sum(a,axis=0))\n",
    "print(np.sum(a,axis=1))\n",
    "print(np.mean(a))\n",
    "print(np.mean(a,axis=0))"
   ]
  },
  {
   "cell_type": "code",
   "execution_count": 38,
   "metadata": {},
   "outputs": [
    {
     "name": "stdout",
     "output_type": "stream",
     "text": [
      "76.0\n"
     ]
    }
   ],
   "source": [
    "#加权平均\n",
    "score = [66,77,88]\n",
    "weight = [3,6,2]\n",
    "print(np.average(score,weights = weight))"
   ]
  },
  {
   "cell_type": "code",
   "execution_count": null,
   "metadata": {},
   "outputs": [],
   "source": [
    "#函数很多，用到再查就行"
   ]
  }
 ],
 "metadata": {
  "interpreter": {
   "hash": "063997466fb8d14a66bdbd4ad5df2a78771035d795576952896bfbd2277157cc"
  },
  "kernelspec": {
   "display_name": "Python 3.8.10 64-bit (windows store)",
   "language": "python",
   "name": "python3"
  },
  "language_info": {
   "codemirror_mode": {
    "name": "ipython",
    "version": 3
   },
   "file_extension": ".py",
   "mimetype": "text/x-python",
   "name": "python",
   "nbconvert_exporter": "python",
   "pygments_lexer": "ipython3",
   "version": "3.8.10"
  },
  "orig_nbformat": 4
 },
 "nbformat": 4,
 "nbformat_minor": 2
}

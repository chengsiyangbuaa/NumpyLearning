{
 "cells": [
  {
   "cell_type": "code",
   "execution_count": 2,
   "metadata": {},
   "outputs": [],
   "source": [
    "import numpy as np"
   ]
  },
  {
   "cell_type": "code",
   "execution_count": 3,
   "metadata": {},
   "outputs": [
    {
     "name": "stdout",
     "output_type": "stream",
     "text": [
      "a=\n",
      " [0. 1. 2. 3.]\n",
      "b=\n",
      " [[0 1 2 3]\n",
      " [4 5 6 7]]\n"
     ]
    }
   ],
   "source": [
    "# numpy.array(object, dtype = None, copy = True, order = None, subok = False, ndmin = 0)\n",
    "# 只能存相同类型的元素,为了能够随机访问\n",
    "a = np.array((0,1,2,3),dtype=np.float64)\n",
    "b = np.array([[0,1,2,3],[4,5,6,7]])\n",
    "print(\"a=\\n\",a)\n",
    "print(\"b=\\n\",b)"
   ]
  },
  {
   "cell_type": "code",
   "execution_count": 14,
   "metadata": {},
   "outputs": [
    {
     "name": "stdout",
     "output_type": "stream",
     "text": [
      "a.shape: (5,) b.shape: (2, 4)\n",
      "a.type: <class 'numpy.ndarray'> b.type: <class 'numpy.ndarray'>\n",
      "a.dtype: float64 b.dtype: float64\n",
      "(32, 8)\n"
     ]
    }
   ],
   "source": [
    "a = np.array((0,1,2,3,4),dtype=np.float64)\n",
    "b = np.array([[0,1,2,3],[4,5,6,7]],dtype=np.float64)\n",
    "print(\"a.shape:\",a.shape,\"b.shape:\",b.shape)\n",
    "print(\"a.type:\",type(a),\"b.type:\",type(b))\n",
    "print(\"a.dtype:\",a.dtype,\"b.dtype:\",b.dtype)\n",
    "print(b.strides)"
   ]
  },
  {
   "cell_type": "code",
   "execution_count": 18,
   "metadata": {},
   "outputs": [
    {
     "name": "stdout",
     "output_type": "stream",
     "text": [
      "[[0 1]\n",
      " [2 3]\n",
      " [4 5]\n",
      " [6 7]]\n",
      "[[0 1 2 3]\n",
      " [4 5 6 7]]\n",
      "[[   0    1]\n",
      " [   2    3]\n",
      " [   4    5]\n",
      " [9999 1888]]\n",
      "[[   0    1    2    3]\n",
      " [   4    5 9999 1888]]\n",
      "[[0.000e+00 1.000e+00]\n",
      " [2.000e+00 3.000e+00]\n",
      " [4.000e+00 5.000e+00]\n",
      " [9.999e+03 7.000e+00]]\n"
     ]
    }
   ],
   "source": [
    "b = np.array([[0,1,2,3],[4,5,6,7]])\n",
    "a = b.reshape((4,2))# a,b在内存中共享一块内存\n",
    "print(a)\n",
    "print(b)\n",
    "b[1][2] = 9999\n",
    "c = a.astype(np.float64)# a,b在内存中独立\n",
    "a[3][1] = 1888\n",
    "print(a)\n",
    "print(b)\n",
    "print(c)"
   ]
  },
  {
   "cell_type": "code",
   "execution_count": 31,
   "metadata": {},
   "outputs": [
    {
     "name": "stdout",
     "output_type": "stream",
     "text": [
      "[[0 1]\n",
      " [2 3]\n",
      " [4 5]\n",
      " [6 7]]\n",
      "[[0 1 2 3]\n",
      " [4 5 6 7]]\n",
      "(4, 2)\n",
      "(8, 2)\n",
      "2\n",
      "2\n"
     ]
    }
   ],
   "source": [
    "import sys\n",
    "b = np.array([[0,1,2,3],[4,5,6,7]],dtype=np.int16) #换成不同类型\n",
    "a = b.reshape((4,-1))# a,b在内存中共享一块内存\n",
    "print(a)\n",
    "print(b)\n",
    "print(a.strides) # 步幅\n",
    "print(b.strides)\n",
    "print(a.itemsize)\n",
    "print(b.itemsize)\n"
   ]
  },
  {
   "cell_type": "code",
   "execution_count": 33,
   "metadata": {},
   "outputs": [
    {
     "name": "stdout",
     "output_type": "stream",
     "text": [
      "np.arange(0,1,0.1):\n",
      " [0.  0.1 0.2 0.3 0.4 0.5 0.6 0.7 0.8 0.9]\n"
     ]
    }
   ],
   "source": [
    "#快速生成等差数列\n",
    "print(\"np.arange(0,1,0.1):\\n\",np.arange(0,1,0.1))"
   ]
  },
  {
   "cell_type": "code",
   "execution_count": 3,
   "metadata": {},
   "outputs": [
    {
     "name": "stdout",
     "output_type": "stream",
     "text": [
      "np.linspace(0,1,10)\n",
      " [0.         0.11111111 0.22222222 0.33333333 0.44444444 0.55555556\n",
      " 0.66666667 0.77777778 0.88888889 1.        ]\n",
      "np.linspace(0,1,10,endpoint=False)\n",
      " [0.  0.1 0.2 0.3 0.4 0.5 0.6 0.7 0.8 0.9]\n"
     ]
    }
   ],
   "source": [
    "import numpy as np\n",
    "print(\"np.linspace(0,1,10)\\n\",np.linspace(0,1,10))\n",
    "print(\"np.linspace(0,1,10,endpoint=False)\\n\",np.linspace(0,1,10,endpoint=False))\n"
   ]
  },
  {
   "cell_type": "code",
   "execution_count": 8,
   "metadata": {},
   "outputs": [
    {
     "name": "stdout",
     "output_type": "stream",
     "text": [
      "[ 1.          2.51188643  6.30957344 15.84893192 39.81071706]\n",
      "[  1.           3.16227766  10.          31.6227766  100.        ]\n",
      "[ 1.  2.  4.  8. 16.]\n",
      "[1.         1.74110113 3.03143313 5.27803164 9.18958684]\n"
     ]
    }
   ],
   "source": [
    "#等比数列\n",
    "import numpy as np\n",
    "print(np.logspace(0,2,5,endpoint=False)) # 10^0   ~    10^2    contain no 10^2\n",
    "print(np.logspace(0,2,5))\n",
    "print(np.logspace(0,4,5,base=2))\n",
    "print(np.logspace(0,4,5,base=2,endpoint=False))"
   ]
  },
  {
   "cell_type": "code",
   "execution_count": 16,
   "metadata": {},
   "outputs": [
    {
     "name": "stdout",
     "output_type": "stream",
     "text": [
      "[[0 0 0]\n",
      " [0 0 0]]\n",
      "[2.12199579e-314 1.08646184e-311 8.81413112e-321 1.11362340e-308]\n",
      "[[1 1]\n",
      " [1 1]]\n",
      "[3.14159265 3.14159265 3.14159265]\n",
      "[[0 0 0 0 0 0 0 0 0 0]\n",
      " [0 0 0 0 0 0 0 0 0 0]\n",
      " [0 0 0 0 0 0 0 0 0 0]\n",
      " [0 0 0 0 0 0 0 0 0 0]\n",
      " [0 0 0 0 0 0 0 0 0 0]\n",
      " [0 0 0 0 0 0 0 0 0 0]\n",
      " [0 0 0 0 0 0 0 0 0 0]\n",
      " [0 0 0 0 0 0 0 0 0 0]\n",
      " [0 0 0 0 0 0 0 0 0 0]\n",
      " [0 0 0 0 0 0 0 0 0 0]]\n"
     ]
    }
   ],
   "source": [
    "#zeros\n",
    "print(np.zeros((2,3),np.int32))\n",
    "print(np.empty(4,np.float64)) # 不对数组进行初始化\n",
    "print(np.ones((2,2),np.int32))\n",
    "print(np.full(3,np.pi))\n",
    "print(np.full((10,10),0))\n"
   ]
  },
  {
   "cell_type": "code",
   "execution_count": 18,
   "metadata": {},
   "outputs": [
    {
     "name": "stdout",
     "output_type": "stream",
     "text": [
      "[6 0 1 2 3 4 5 6 0 1 2 3 4 5 6 0 1 2 3 4 5 6 0 1 2 3 4 5 6 0 1]\n"
     ]
    }
   ],
   "source": [
    "# function init\n",
    "\n",
    "def weekday(i):\n",
    "    return (i+6) % 7\n",
    "\n",
    "print(np.fromfunction(weekday,(31,)).astype(np.int32))"
   ]
  },
  {
   "cell_type": "code",
   "execution_count": 21,
   "metadata": {},
   "outputs": [
    {
     "name": "stdout",
     "output_type": "stream",
     "text": [
      "[[ 1  2  3  4  5  6  7  8  9]\n",
      " [ 2  4  6  8 10 12 14 16 18]\n",
      " [ 3  6  9 12 15 18 21 24 27]\n",
      " [ 4  8 12 16 20 24 28 32 36]\n",
      " [ 5 10 15 20 25 30 35 40 45]\n",
      " [ 6 12 18 24 30 36 42 48 54]\n",
      " [ 7 14 21 28 35 42 49 56 63]\n",
      " [ 8 16 24 32 40 48 56 64 72]\n",
      " [ 9 18 27 36 45 54 63 72 81]]\n"
     ]
    }
   ],
   "source": [
    "def multy(i,j):\n",
    "    return (i+1)*(j+1)\n",
    "\n",
    "print(np.fromfunction(multy,(9,9)).astype(np.int32))"
   ]
  },
  {
   "cell_type": "code",
   "execution_count": 28,
   "metadata": {},
   "outputs": [
    {
     "name": "stdout",
     "output_type": "stream",
     "text": [
      "[0 1 2 3 4 5 6 7 8 9]\n",
      "[1 2]\n",
      "2\n",
      "[0 1 2 3 4 5 6 7 8 9]\n",
      "5\n",
      "[0 1 2 3 4]\n",
      "[77 88 99  3  4  5  6  7  8  9]\n"
     ]
    }
   ],
   "source": [
    "#一维元素的存取\n",
    "\n",
    "import numpy as np\n",
    "\n",
    "a = np.arange(10)\n",
    "print(a)\n",
    "print(a[1:3])\n",
    "print(a[2])\n",
    "print(a[:])\n",
    "print(a[-5])\n",
    "print(a[:-5])\n",
    "a[:3] = 77,88,99\n",
    "print(a)\n",
    "#numpy数组使用切片，所得新数组与原数组共享内存，是原数组的视图\n",
    "#list数组使用切片，所得的新数组是原数组的复制\n"
   ]
  },
  {
   "cell_type": "code",
   "execution_count": 33,
   "metadata": {},
   "outputs": [
    {
     "name": "stdout",
     "output_type": "stream",
     "text": [
      "na:\n",
      " [0 1 2 3 4 5 6 7 8 9]\n",
      "nb:\n",
      " [1 2]\n",
      "a:\n",
      " [0, 1, 2, 3, 4, 5, 6, 7, 8, 9]\n",
      "b:\n",
      " [1, 2]\n",
      "*************\n",
      "na:\n",
      " [  0   1 100   3   4   5   6   7   8   9]\n",
      "nb:\n",
      " [  1 100]\n",
      "a:\n",
      " [0, 1, 100, 3, 4, 5, 6, 7, 8, 9]\n",
      "b:\n",
      " [1, 2]\n"
     ]
    }
   ],
   "source": [
    "import numpy as np\n",
    "na = np.arange(10)\n",
    "nb = na[1:3]\n",
    "a = list(range(10))\n",
    "b = a[1:3]\n",
    "print(\"na:\\n\",na)\n",
    "print(\"nb:\\n\",nb)\n",
    "print(\"a:\\n\",a)\n",
    "print(\"b:\\n\",b)\n",
    "na[2] = 100\n",
    "a[2] = 100\n",
    "print(\"*************\")\n",
    "print(\"na:\\n\",na)\n",
    "print(\"nb:\\n\",nb)\n",
    "print(\"a:\\n\",a)\n",
    "print(\"b:\\n\",b)"
   ]
  },
  {
   "cell_type": "code",
   "execution_count": 35,
   "metadata": {},
   "outputs": [
    {
     "name": "stdout",
     "output_type": "stream",
     "text": [
      "[0 1 2 3 4 5 6 7 8 9]\n",
      "[   1   99 4396 7777]\n"
     ]
    }
   ],
   "source": [
    "#使用整数列表获取数组\n",
    "na = np.arange(10)\n",
    "nb = na[[1,3,5,7]]\n",
    "nb[1] = 99\n",
    "nb[[2,3]] = 4396,7777\n",
    "print(na)\n",
    "print(nb)"
   ]
  },
  {
   "cell_type": "code",
   "execution_count": 38,
   "metadata": {},
   "outputs": [
    {
     "name": "stdout",
     "output_type": "stream",
     "text": [
      "[0 1 2 3 4 5 6 7 8 9]\n",
      "[[2 4 4 5]\n",
      " [7 7 3 9]]\n"
     ]
    }
   ],
   "source": [
    "#使用整数数组作为下标\n",
    "na = np.arange(10)\n",
    "idx = np.array([[2,4,-6,5],[7,7,3,9]])\n",
    "nb = na[idx] #一种新的获得数组的方法\n",
    "print(na)\n",
    "print(nb)"
   ]
  },
  {
   "cell_type": "code",
   "execution_count": 43,
   "metadata": {},
   "outputs": [
    {
     "name": "stdout",
     "output_type": "stream",
     "text": [
      "na[idx1]:\n",
      " [0 2 4 6 8]\n",
      "<class 'numpy.ndarray'>\n",
      "[ True False  True False  True False  True False  True False]\n",
      "[0 2 4 6 8]\n"
     ]
    }
   ],
   "source": [
    "#使用布尔列表作为下标\n",
    "na = np.arange(10)\n",
    "idx1 = [True,False,True,False,True,False,True,False,True,False]\n",
    "print(\"na[idx1]:\\n\",na[idx1])\n",
    "idx2 = (na%2==0)\n",
    "print(type(idx2))\n",
    "print(idx2)\n",
    "print(na[idx2])"
   ]
  }
 ],
 "metadata": {
  "interpreter": {
   "hash": "063997466fb8d14a66bdbd4ad5df2a78771035d795576952896bfbd2277157cc"
  },
  "kernelspec": {
   "display_name": "Python 3.8.10 64-bit (windows store)",
   "language": "python",
   "name": "python3"
  },
  "language_info": {
   "codemirror_mode": {
    "name": "ipython",
    "version": 3
   },
   "file_extension": ".py",
   "mimetype": "text/x-python",
   "name": "python",
   "nbconvert_exporter": "python",
   "pygments_lexer": "ipython3",
   "version": "3.8.10"
  },
  "orig_nbformat": 4
 },
 "nbformat": 4,
 "nbformat_minor": 2
}
